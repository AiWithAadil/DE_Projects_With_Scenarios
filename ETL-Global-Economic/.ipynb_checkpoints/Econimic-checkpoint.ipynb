{
 "cells": [
  {
   "cell_type": "code",
   "execution_count": 27,
   "id": "30c2653d-2adc-4bf8-b562-a898939072af",
   "metadata": {},
   "outputs": [],
   "source": [
    "from io import StringIO \n",
    "import requests  # for load api\n",
    "from bs4 import BeautifulSoup # for parsing HTML and XML documents\n",
    "import pandas as pd # for transformation\n",
    "import sqlite3 # for load data and make databases\n",
    "from datetime import datetime # \n",
    "from icecream import icecream as ic #\n",
    "import matplotlib.pyplot as plt\n",
    "import numpy as np\n",
    "import html5lib"
   ]
  },
  {
   "cell_type": "markdown",
   "id": "ae8dd714-fdbe-4cf2-ae05-814d9bd08158",
   "metadata": {},
   "source": [
    "## Step 1 : Logging Function"
   ]
  },
  {
   "cell_type": "code",
   "execution_count": 71,
   "id": "3b49524a-2bd4-4e66-82de-c7d4987f7892",
   "metadata": {},
   "outputs": [],
   "source": [
    "def Logging_process(message):\n",
    "    with open('log_process.txt', 'a') as l:\n",
    "        l.write(f\"{datetime.now}:{message}\\n\")"
   ]
  },
  {
   "cell_type": "code",
   "execution_count": 72,
   "id": "49fc1050-901d-4f17-baee-137c215c25cc",
   "metadata": {},
   "outputs": [],
   "source": [
    "def extract(url, table_id):\n",
    "    response = requests.get(url)\n",
    "    soup = BeautifulSoup(response.text, 'html.parser')\n",
    "    table = soup.find('table', id=table_id)\n",
    "    \n",
    "    if table is None:\n",
    "        Logging_process('Table not found')\n",
    "        return None\n",
    "\n",
    "    df = pd.read_html(str(table))[0]\n",
    "    Logging_process('Data Extracted Successfully from the website')\n",
    "\n",
    "    return df\n"
   ]
  },
  {
   "cell_type": "markdown",
   "id": "710a1642-a455-45ef-83d0-e064089ca0ce",
   "metadata": {},
   "source": [
    "## Step 3 : Transform Function"
   ]
  },
  {
   "cell_type": "code",
   "execution_count": 73,
   "id": "11b190d0-f6af-4418-a396-d33cd793fef8",
   "metadata": {},
   "outputs": [],
   "source": [
    "def transform():\n",
    "    try:\n",
    "        read = pd.read_csv('./GDP_by_Country_data.csv')\n",
    "        Logging_process(\"CSV file read successfully\")\n",
    "        \n",
    "        if read.empty:\n",
    "            Logging_process(\"No data to transform. Exiting transformation process.\")\n",
    "            return None\n",
    "\n",
    "        Logging_process(\"Starting data transformation\")\n",
    "        \n",
    "        read.dropna(inplace=True)\n",
    "        Logging_process(\"Dropped rows with missing values\")\n",
    "        \n",
    "        # Print columns before renaming\n",
    "        Logging_process(f\"Columns before renaming: {read.columns.tolist()}\")\n",
    "        \n",
    "        # Strip whitespace from headers\n",
    "        read.columns = read.columns.str.strip()\n",
    "\n",
    "        # Rename columns\n",
    "        df = read.rename(columns={'GDP  (nominal, 2022)': 'GDP', 'Population  (2022)': 'Population'})\n",
    "        Logging_process(\"Renamed columns\")\n",
    "        \n",
    "        # Print columns after renaming\n",
    "        Logging_process(f\"Columns after renaming: {df.columns.tolist()}\")\n",
    "        \n",
    "        # Check if the 'Population' column exists\n",
    "        if 'Population' not in df.columns:\n",
    "            Logging_process(\"Column 'Population' not found after renaming. Exiting transformation process.\")\n",
    "            return None\n",
    "\n",
    "        max_population = np.max(df['Population'])\n",
    "        country_with_max_population = df[df['Population'] == max_population]['Country'].values[0]\n",
    "        Logging_process(f\"Country with the highest population: {country_with_max_population}\")\n",
    "        \n",
    "        # Add the country name into High_GDP_by_Population column\n",
    "        df['High_GDP_by_Population'] = df['Population'].apply(lambda x: country_with_max_population if x == max_population else '')\n",
    "        Logging_process(\"Added country name into High_GDP_by_Population\")\n",
    "\n",
    "        Logging_process(\"Data Transformation Successfully done\")\n",
    "        return df\n",
    "\n",
    "    except Exception as e:\n",
    "        Logging_process(f'Error during transformation: {str(e)}')\n",
    "        return None\n"
   ]
  },
  {
   "cell_type": "markdown",
   "id": "7ac8bc88-4459-4415-a62d-31289e4a65d6",
   "metadata": {},
   "source": [
    "## Step 4 : Load data to csv"
   ]
  },
  {
   "cell_type": "code",
   "execution_count": 74,
   "id": "4264abb9-2ec5-4fc9-99f8-e3d85edafc07",
   "metadata": {},
   "outputs": [],
   "source": [
    "def Load_to_csv(df,file_name):\n",
    "\n",
    "    Logging_process(f\"Saving data to {file_name}\")\n",
    "    df.to_csv(file_name, index=False)\n",
    "    Logging_process(f\"Data successfully saved to {file_name}\")"
   ]
  },
  {
   "cell_type": "markdown",
   "id": "9814d351-b357-49f0-9c53-3691defce181",
   "metadata": {},
   "source": [
    "## Step 5 : Load data to Database"
   ]
  },
  {
   "cell_type": "code",
   "execution_count": 76,
   "id": "cd0a145d-b658-445d-9285-b8ee6b406e1a",
   "metadata": {},
   "outputs": [],
   "source": [
    "def database(df,db_name,table_name):\n",
    "        Logging_process(f\"Loading data into database {db_name} table {table_name}\")\n",
    "        conn = sqlite3.connect(db_name)\n",
    "        df.to_sql(table_name, conn, if_exists='replace', index=False)\n",
    "        conn.close()\n",
    "        Logging_process(\"Data successfully loaded into the database\")"
   ]
  },
  {
   "cell_type": "code",
   "execution_count": 78,
   "id": "63e274d8-967f-4eff-b4a4-e70cff3c7f96",
   "metadata": {},
   "outputs": [
    {
     "name": "stderr",
     "output_type": "stream",
     "text": [
      "C:\\Users\\batmayn\\AppData\\Local\\Temp\\ipykernel_4396\\2349258799.py:10: FutureWarning: Passing literal html to 'read_html' is deprecated and will be removed in a future version. To read from a literal string, wrap it in a 'StringIO' object.\n",
      "  df = pd.read_html(str(table))[0]\n"
     ]
    }
   ],
   "source": [
    "if __name__ == '__main__':\n",
    "    url = 'https://www.worldometers.info/gdp/gdp-by-country/'\n",
    "    output_csv_path = './GDP_by_Country_data.csv'\n",
    "    clean_data = 'GDP_Clean_Data'\n",
    "    database_name ='Economic.db'\n",
    "    table_id = 'example2'  # Assuming the table has an id 'example2'\n",
    "    \n",
    "    Logging_process('Preliminaries complete. Initiating ETL process')\n",
    "\n",
    "    data_frame = extract(url, table_id)\n",
    "    \n",
    "    if data_frame is not None:\n",
    "        # Save to CSV\n",
    "        data_frame.to_csv(output_csv_path, index=False)\n",
    "        Logging_process(f'Data saved to CSV at {output_csv_path}')\n",
    "\n",
    "    transformed_df = transform()\n",
    "    Load_to_csv(transformed_df,clean_data)\n",
    "    database(transformed_df,database_name,table_id)"
   ]
  },
  {
   "cell_type": "code",
   "execution_count": null,
   "id": "8f6486d7-9eaf-4991-b248-deef0af3945d",
   "metadata": {},
   "outputs": [],
   "source": []
  },
  {
   "cell_type": "code",
   "execution_count": null,
   "id": "10a53202-b90e-4688-88a1-cd250ae28108",
   "metadata": {},
   "outputs": [],
   "source": []
  }
 ],
 "metadata": {
  "kernelspec": {
   "display_name": "Python 3 (ipykernel)",
   "language": "python",
   "name": "python3"
  },
  "language_info": {
   "codemirror_mode": {
    "name": "ipython",
    "version": 3
   },
   "file_extension": ".py",
   "mimetype": "text/x-python",
   "name": "python",
   "nbconvert_exporter": "python",
   "pygments_lexer": "ipython3",
   "version": "3.11.7"
  }
 },
 "nbformat": 4,
 "nbformat_minor": 5
}
